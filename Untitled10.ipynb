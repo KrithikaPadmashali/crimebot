{
 "cells": [
  {
   "cell_type": "code",
   "execution_count": 1,
   "id": "515e6138",
   "metadata": {},
   "outputs": [
    {
     "name": "stdout",
     "output_type": "stream",
     "text": [
      "Requirement already satisfied: transformers in c:\\users\\user-pc\\anaconda3\\lib\\site-packages (4.31.0)\n",
      "Requirement already satisfied: datasets in c:\\users\\user-pc\\anaconda3\\lib\\site-packages (3.4.1)\n",
      "Requirement already satisfied: pyyaml>=5.1 in c:\\users\\user-pc\\anaconda3\\lib\\site-packages (from transformers) (6.0)\n",
      "Requirement already satisfied: safetensors>=0.3.1 in c:\\users\\user-pc\\anaconda3\\lib\\site-packages (from transformers) (0.5.3)\n",
      "Requirement already satisfied: packaging>=20.0 in c:\\users\\user-pc\\anaconda3\\lib\\site-packages (from transformers) (22.0)\n",
      "Requirement already satisfied: tqdm>=4.27 in c:\\users\\user-pc\\anaconda3\\lib\\site-packages (from transformers) (4.67.1)\n",
      "Requirement already satisfied: regex!=2019.12.17 in c:\\users\\user-pc\\anaconda3\\lib\\site-packages (from transformers) (2022.7.9)\n",
      "Requirement already satisfied: huggingface-hub<1.0,>=0.14.1 in c:\\users\\user-pc\\anaconda3\\lib\\site-packages (from transformers) (0.29.3)\n",
      "Requirement already satisfied: filelock in c:\\users\\user-pc\\anaconda3\\lib\\site-packages (from transformers) (3.9.0)\n",
      "Requirement already satisfied: tokenizers!=0.11.3,<0.14,>=0.11.1 in c:\\users\\user-pc\\anaconda3\\lib\\site-packages (from transformers) (0.13.3)\n",
      "Requirement already satisfied: requests in c:\\users\\user-pc\\anaconda3\\lib\\site-packages (from transformers) (2.32.3)\n",
      "Requirement already satisfied: numpy>=1.17 in c:\\users\\user-pc\\anaconda3\\lib\\site-packages (from transformers) (1.24.4)\n",
      "Requirement already satisfied: fsspec[http]<=2024.12.0,>=2023.1.0 in c:\\users\\user-pc\\anaconda3\\lib\\site-packages (from datasets) (2024.12.0)\n",
      "Requirement already satisfied: dill<0.3.9,>=0.3.0 in c:\\users\\user-pc\\anaconda3\\lib\\site-packages (from datasets) (0.3.8)\n",
      "Requirement already satisfied: xxhash in c:\\users\\user-pc\\anaconda3\\lib\\site-packages (from datasets) (3.5.0)\n",
      "Requirement already satisfied: multiprocess<0.70.17 in c:\\users\\user-pc\\anaconda3\\lib\\site-packages (from datasets) (0.70.16)\n",
      "Requirement already satisfied: pandas in c:\\users\\user-pc\\anaconda3\\lib\\site-packages (from datasets) (1.5.3)\n",
      "Requirement already satisfied: pyarrow>=15.0.0 in c:\\users\\user-pc\\anaconda3\\lib\\site-packages (from datasets) (19.0.1)\n",
      "Requirement already satisfied: aiohttp in c:\\users\\user-pc\\anaconda3\\lib\\site-packages (from datasets) (3.11.14)\n",
      "Requirement already satisfied: aiohappyeyeballs>=2.3.0 in c:\\users\\user-pc\\anaconda3\\lib\\site-packages (from aiohttp->datasets) (2.6.1)\n",
      "Requirement already satisfied: multidict<7.0,>=4.5 in c:\\users\\user-pc\\anaconda3\\lib\\site-packages (from aiohttp->datasets) (6.2.0)\n",
      "Requirement already satisfied: propcache>=0.2.0 in c:\\users\\user-pc\\anaconda3\\lib\\site-packages (from aiohttp->datasets) (0.3.0)\n",
      "Requirement already satisfied: yarl<2.0,>=1.17.0 in c:\\users\\user-pc\\anaconda3\\lib\\site-packages (from aiohttp->datasets) (1.18.3)\n",
      "Requirement already satisfied: aiosignal>=1.1.2 in c:\\users\\user-pc\\anaconda3\\lib\\site-packages (from aiohttp->datasets) (1.3.2)\n",
      "Requirement already satisfied: async-timeout<6.0,>=4.0 in c:\\users\\user-pc\\anaconda3\\lib\\site-packages (from aiohttp->datasets) (5.0.1)\n",
      "Requirement already satisfied: frozenlist>=1.1.1 in c:\\users\\user-pc\\anaconda3\\lib\\site-packages (from aiohttp->datasets) (1.5.0)\n",
      "Requirement already satisfied: attrs>=17.3.0 in c:\\users\\user-pc\\anaconda3\\lib\\site-packages (from aiohttp->datasets) (22.1.0)\n",
      "Requirement already satisfied: typing-extensions>=3.7.4.3 in c:\\users\\user-pc\\anaconda3\\lib\\site-packages (from huggingface-hub<1.0,>=0.14.1->transformers) (4.12.2)\n",
      "Requirement already satisfied: certifi>=2017.4.17 in c:\\users\\user-pc\\anaconda3\\lib\\site-packages (from requests->transformers) (2024.2.2)\n",
      "Requirement already satisfied: idna<4,>=2.5 in c:\\users\\user-pc\\anaconda3\\lib\\site-packages (from requests->transformers) (3.4)\n",
      "Requirement already satisfied: urllib3<3,>=1.21.1 in c:\\users\\user-pc\\anaconda3\\lib\\site-packages (from requests->transformers) (1.26.14)\n",
      "Requirement already satisfied: charset-normalizer<4,>=2 in c:\\users\\user-pc\\anaconda3\\lib\\site-packages (from requests->transformers) (2.0.4)\n",
      "Requirement already satisfied: colorama in c:\\users\\user-pc\\anaconda3\\lib\\site-packages (from tqdm>=4.27->transformers) (0.4.6)\n",
      "Requirement already satisfied: pytz>=2020.1 in c:\\users\\user-pc\\anaconda3\\lib\\site-packages (from pandas->datasets) (2022.7)\n",
      "Requirement already satisfied: python-dateutil>=2.8.1 in c:\\users\\user-pc\\anaconda3\\lib\\site-packages (from pandas->datasets) (2.8.2)\n",
      "Requirement already satisfied: six>=1.5 in c:\\users\\user-pc\\anaconda3\\lib\\site-packages (from python-dateutil>=2.8.1->pandas->datasets) (1.16.0)\n"
     ]
    }
   ],
   "source": [
    "# Step 1: Install Required Libraries\n",
    "!pip install transformers datasets\n"
   ]
  },
  {
   "cell_type": "code",
   "execution_count": 2,
   "id": "67ae70ba",
   "metadata": {},
   "outputs": [],
   "source": [
    "# Step 2: Import Necessary Libraries\n",
    "import torch\n",
    "from transformers import AutoTokenizer, AutoModelForCausalLM, TrainingArguments, Trainer, DataCollatorForSeq2Seq\n",
    "from datasets import load_dataset\n"
   ]
  },
  {
   "cell_type": "code",
   "execution_count": 3,
   "id": "33ec7b6f",
   "metadata": {},
   "outputs": [],
   "source": [
    "# Step 3: Load the Dataset\n",
    "# Ensure `output.json` contains your dataset in the expected format\n",
    "data_file = \"output.json\"  # Replace with your dataset file\n",
    "dataset = load_dataset(\"json\", data_files=data_file)"
   ]
  },
  {
   "cell_type": "code",
   "execution_count": 4,
   "id": "b7be100c",
   "metadata": {},
   "outputs": [],
   "source": [
    "# Split into train and validation sets\n",
    "dataset = dataset[\"train\"].train_test_split(test_size=0.1)\n",
    "train_data = dataset[\"train\"]\n",
    "val_data = dataset[\"test\"]"
   ]
  },
  {
   "cell_type": "code",
   "execution_count": 5,
   "id": "e3c265f8",
   "metadata": {},
   "outputs": [
    {
     "name": "stderr",
     "output_type": "stream",
     "text": [
      "C:\\Users\\user-pc\\anaconda3\\lib\\site-packages\\huggingface_hub\\file_download.py:797: FutureWarning: `resume_download` is deprecated and will be removed in version 1.0.0. Downloads always resume when possible. If you want to force a new download, use `force_download=True`.\n",
      "  warnings.warn(\n",
      "C:\\Users\\user-pc\\anaconda3\\lib\\site-packages\\huggingface_hub\\file_download.py:797: FutureWarning: `resume_download` is deprecated and will be removed in version 1.0.0. Downloads always resume when possible. If you want to force a new download, use `force_download=True`.\n",
      "  warnings.warn(\n"
     ]
    },
    {
     "data": {
      "application/vnd.jupyter.widget-view+json": {
       "model_id": "dae53930ec6849a1b1b68acddce41427",
       "version_major": 2,
       "version_minor": 0
      },
      "text/plain": [
       "generation_config.json:   0%|          | 0.00/124 [00:00<?, ?B/s]"
      ]
     },
     "metadata": {},
     "output_type": "display_data"
    },
    {
     "name": "stderr",
     "output_type": "stream",
     "text": [
      "C:\\Users\\user-pc\\anaconda3\\lib\\site-packages\\huggingface_hub\\file_download.py:142: UserWarning: `huggingface_hub` cache-system uses symlinks by default to efficiently store duplicated files but your machine does not support them in C:\\Users\\user-pc\\.cache\\huggingface\\hub\\models--distilgpt2. Caching files will still work but in a degraded version that might require more space on your disk. This warning can be disabled by setting the `HF_HUB_DISABLE_SYMLINKS_WARNING` environment variable. For more details, see https://huggingface.co/docs/huggingface_hub/how-to-cache#limitations.\n",
      "To support symlinks on Windows, you either need to activate Developer Mode or to run Python as an administrator. In order to activate developer mode, see this article: https://docs.microsoft.com/en-us/windows/apps/get-started/enable-your-device-for-development\n",
      "  warnings.warn(message)\n"
     ]
    }
   ],
   "source": [
    "# Step 4: Load the Tokenizer and Model\n",
    "model_name = \"distilgpt2\"  # Small and efficient pre-trained GPT model\n",
    "tokenizer = AutoTokenizer.from_pretrained(model_name)\n",
    "model = AutoModelForCausalLM.from_pretrained(model_name)\n"
   ]
  },
  {
   "cell_type": "code",
   "execution_count": 6,
   "id": "7fabaeb7",
   "metadata": {},
   "outputs": [
    {
     "name": "stderr",
     "output_type": "stream",
     "text": [
      "Using pad_token, but it is not set yet.\n"
     ]
    }
   ],
   "source": [
    "# Add a padding token if the tokenizer doesn't already have one\n",
    "if tokenizer.pad_token is None:\n",
    "    tokenizer.pad_token = tokenizer.eos_token\n"
   ]
  },
  {
   "cell_type": "code",
   "execution_count": 13,
   "id": "1c515253",
   "metadata": {},
   "outputs": [],
   "source": [
    "def preprocess_function(examples):\n",
    "    # Combine \"Context\" and \"Question\" into a single input\n",
    "    inputs = [f\"Context: {c}\\nQuestion: {q}\" for c, q in zip(examples[\"Context\"], examples[\"Question\"])]\n",
    "    outputs = examples[\"Answer\"]\n",
    "    \n",
    "    # Tokenize inputs and labels\n",
    "    model_inputs = tokenizer(\n",
    "        inputs, max_length=256, truncation=True, padding=\"max_length\"\n",
    "    )\n",
    "    labels = tokenizer(\n",
    "        outputs, max_length=256, truncation=True, padding=\"max_length\"\n",
    "    )[\"input_ids\"]\n",
    "    \n",
    "    # Ensure labels have the same shape as inputs\n",
    "    labels = torch.tensor(labels)\n",
    "    \n",
    "    # Replace padding tokens in labels with -100 to ignore them during loss\n",
    "    labels[labels == tokenizer.pad_token_id] = -100\n",
    "\n",
    "    # Add labels to the tokenized inputs\n",
    "    model_inputs[\"labels\"] = labels.tolist()\n",
    "    return model_inputs\n"
   ]
  },
  {
   "cell_type": "code",
   "execution_count": 14,
   "id": "928bc3fb",
   "metadata": {},
   "outputs": [
    {
     "data": {
      "application/vnd.jupyter.widget-view+json": {
       "model_id": "cb4b37e5d9ba4ce88fe50b399eb9bcbd",
       "version_major": 2,
       "version_minor": 0
      },
      "text/plain": [
       "Map:   0%|          | 0/8987 [00:00<?, ? examples/s]"
      ]
     },
     "metadata": {},
     "output_type": "display_data"
    },
    {
     "data": {
      "application/vnd.jupyter.widget-view+json": {
       "model_id": "ff2de275111f4bf09b99a8a2c621d4fc",
       "version_major": 2,
       "version_minor": 0
      },
      "text/plain": [
       "Map:   0%|          | 0/999 [00:00<?, ? examples/s]"
      ]
     },
     "metadata": {},
     "output_type": "display_data"
    }
   ],
   "source": [
    "train_dataset = train_data.map(preprocess_function, batched=True).with_format(\"torch\")\n",
    "val_dataset = val_data.map(preprocess_function, batched=True).with_format(\"torch\")\n"
   ]
  },
  {
   "cell_type": "code",
   "execution_count": 9,
   "id": "12cfa3fc",
   "metadata": {},
   "outputs": [],
   "source": [
    "# Step 6: Define the Data Collator\n",
    "data_collator = DataCollatorForSeq2Seq(tokenizer, padding=True, return_tensors=\"pt\")\n"
   ]
  },
  {
   "cell_type": "code",
   "execution_count": 10,
   "id": "96fe91e4",
   "metadata": {},
   "outputs": [],
   "source": [
    "# Step 7: Configure Training Arguments\n",
    "training_args = TrainingArguments(\n",
    "    output_dir=\"./fine_tuned_distilgpt2\",  # Directory to save the model\n",
    "    evaluation_strategy=\"epoch\",         # Evaluate at the end of each epoch\n",
    "    learning_rate=2e-4,                  # Learning rate\n",
    "    per_device_train_batch_size=1,       # Batch size per device\n",
    "    per_device_eval_batch_size=1,\n",
    "    gradient_accumulation_steps=4,       # Simulate larger batch size\n",
    "    num_train_epochs=1,                  # Number of epochs\n",
    "    save_steps=500,                      # Save checkpoint every 500 steps\n",
    "    save_total_limit=2,                  # Keep only the last 2 checkpoints\n",
    "    logging_steps=10,                    # Log training progress every 10 steps\n",
    "    fp16=torch.cuda.is_available(),      # Use mixed precision if GPU is available\n",
    "    no_cuda=not torch.cuda.is_available(), # Use CPU if no GPU is available\n",
    "    report_to=\"none\",                    # Disable integration with tools like WandB\n",
    ")"
   ]
  },
  {
   "cell_type": "code",
   "execution_count": 15,
   "id": "23b20a46",
   "metadata": {},
   "outputs": [],
   "source": [
    "# Step 8: Initialize the Trainer\n",
    "trainer = Trainer(\n",
    "    model=model,\n",
    "    args=training_args,\n",
    "    train_dataset=train_dataset,\n",
    "    eval_dataset=val_dataset,\n",
    "    tokenizer=tokenizer,\n",
    "    data_collator=data_collator,\n",
    ")"
   ]
  },
  {
   "cell_type": "code",
   "execution_count": null,
   "id": "b6a879a1",
   "metadata": {},
   "outputs": [
    {
     "data": {
      "text/html": [
       "\n",
       "    <div>\n",
       "      \n",
       "      <progress value='13' max='2246' style='width:300px; height:20px; vertical-align: middle;'></progress>\n",
       "      [  13/2246 02:52 < 9:45:02, 0.06 it/s, Epoch 0.01/1]\n",
       "    </div>\n",
       "    <table border=\"1\" class=\"dataframe\">\n",
       "  <thead>\n",
       " <tr style=\"text-align: left;\">\n",
       "      <th>Epoch</th>\n",
       "      <th>Training Loss</th>\n",
       "      <th>Validation Loss</th>\n",
       "    </tr>\n",
       "  </thead>\n",
       "  <tbody>\n",
       "  </tbody>\n",
       "</table><p>"
      ],
      "text/plain": [
       "<IPython.core.display.HTML object>"
      ]
     },
     "metadata": {},
     "output_type": "display_data"
    }
   ],
   "source": [
    "# Step 9: Fine-Tune the Model\n",
    "trainer.train()\n"
   ]
  },
  {
   "cell_type": "code",
   "execution_count": 16,
   "id": "2299fd45",
   "metadata": {},
   "outputs": [
    {
     "name": "stdout",
     "output_type": "stream",
     "text": [
      "Input IDs Shape: 256\n",
      "Labels Shape: 256\n"
     ]
    }
   ],
   "source": [
    "# Check a single example from the train dataset\n",
    "example = train_dataset[0]\n",
    "print(f\"Input IDs Shape: {len(example['input_ids'])}\")\n",
    "print(f\"Labels Shape: {len(example['labels'])}\")\n"
   ]
  },
  {
   "cell_type": "code",
   "execution_count": null,
   "id": "b2e1763e",
   "metadata": {},
   "outputs": [],
   "source": []
  }
 ],
 "metadata": {
  "kernelspec": {
   "display_name": "Python 3 (ipykernel)",
   "language": "python",
   "name": "python3"
  },
  "language_info": {
   "codemirror_mode": {
    "name": "ipython",
    "version": 3
   },
   "file_extension": ".py",
   "mimetype": "text/x-python",
   "name": "python",
   "nbconvert_exporter": "python",
   "pygments_lexer": "ipython3",
   "version": "3.10.9"
  }
 },
 "nbformat": 4,
 "nbformat_minor": 5
}
